{
 "cells": [
  {
   "cell_type": "markdown",
   "metadata": {},
   "source": [
    "## Instituto Federal de Minas Gerais campus Ibirité\n",
    "\n",
    "<br>\n",
    "\n",
    "**Curso**: Engenharia de controle e automação.\n",
    "\n",
    "**Professor**: Ivan Reinaldo Meneguini.\n",
    "\n",
    "**Disciplina**: Cálculo Numérico.\n",
    "\n",
    "**Aula/Tema**: Aula 01-Erro relativo e absoluto.\n",
    "\n",
    "\n",
    "<br>\n",
    "\n",
    "*Mateus Menezes Carvalho, 3 de Março de 2023.*"
   ]
  },
  {
   "cell_type": "markdown",
   "metadata": {},
   "source": [
    "<br>\n",
    "<br>"
   ]
  },
  {
   "cell_type": "markdown",
   "metadata": {},
   "source": [
    "**1. Calcule o erro absoluto e relativo para a aproximação de *p* por *p*:**"
   ]
  },
  {
   "cell_type": "code",
   "execution_count": 1,
   "metadata": {},
   "outputs": [],
   "source": [
    "import math\n",
    "\n",
    "def erro_absoluto__relativo(p, p_x):\n",
    "    \n",
    "    \"\"\"\n",
    "        Retorna o erro absoluto e relativo para aproximação de p por p_x.\n",
    "    \"\"\"\n",
    "\n",
    "    import math\n",
    "    \n",
    "    # Erro absoluto\n",
    "    absoluto = abs(p - (p_x))\n",
    "\n",
    "    # Erro relativo\n",
    "    relativo = abs(p - (p_x)) / abs(p)\n",
    "    \n",
    "    # Porcentagem\n",
    "    porcentagem = relativo * 100\n",
    "\n",
    "    return f'O erro absoluto é {absoluto:.3e} e o erro relativo é {relativo:.3e} ou porcentagem {porcentagem:.3f}%.'"
   ]
  },
  {
   "cell_type": "markdown",
   "metadata": {},
   "source": [
    "$a)$ $$p = \\pi, \\space p^* = \\frac{22}{7}$$"
   ]
  },
  {
   "cell_type": "code",
   "execution_count": 32,
   "metadata": {},
   "outputs": [
    {
     "name": "stdout",
     "output_type": "stream",
     "text": [
      "O erro absoluto é 1.264e-03 e o erro relativo é 4.025e-04 ou porcentagem 0.040%.\n"
     ]
    }
   ],
   "source": [
    "# a) p = pi, p* = 22/7\n",
    "\n",
    "print(erro_absoluto__relativo(math.pi, 22/7))"
   ]
  },
  {
   "cell_type": "markdown",
   "metadata": {},
   "source": [
    "$b)$ $$p = \\pi, \\space p^* = 3,14$$"
   ]
  },
  {
   "cell_type": "code",
   "execution_count": 33,
   "metadata": {},
   "outputs": [
    {
     "name": "stdout",
     "output_type": "stream",
     "text": [
      "O erro absoluto é 1.593e-03 e o erro relativo é 5.070e-04 ou porcentagem 0.051%.\n"
     ]
    }
   ],
   "source": [
    "# b) p = pi, p* = 3,14\n",
    "\n",
    "print(erro_absoluto__relativo(math.pi, 3.14))"
   ]
  },
  {
   "cell_type": "markdown",
   "metadata": {},
   "source": [
    "$c)$ $$p = {e}, \\space p^* = 2,718$$"
   ]
  },
  {
   "cell_type": "code",
   "execution_count": 34,
   "metadata": {},
   "outputs": [
    {
     "name": "stdout",
     "output_type": "stream",
     "text": [
      "O erro absoluto é 2.818e-04 e o erro relativo é 1.037e-04 ou porcentagem 0.010%.\n"
     ]
    }
   ],
   "source": [
    "# c) p = e, p* = 2,718\n",
    "\n",
    "print(erro_absoluto__relativo(math.e, 2.718))"
   ]
  },
  {
   "cell_type": "markdown",
   "metadata": {},
   "source": [
    "$d)$ $$p = e^{10}, \\space p^* = 22,000$$"
   ]
  },
  {
   "cell_type": "code",
   "execution_count": 35,
   "metadata": {},
   "outputs": [
    {
     "name": "stdout",
     "output_type": "stream",
     "text": [
      "O erro absoluto é 2.200e+04 e o erro relativo é 9.990e-01 ou porcentagem 99.900%.\n"
     ]
    }
   ],
   "source": [
    "# d) p = e ^ 10, p* = 22,000\n",
    "\n",
    "print(erro_absoluto__relativo(math.e**10, 22.000))"
   ]
  },
  {
   "cell_type": "markdown",
   "metadata": {},
   "source": [
    "$d)$ $$p = 10^{\\pi}, \\space p^* = 1,400$$"
   ]
  },
  {
   "cell_type": "code",
   "execution_count": 36,
   "metadata": {},
   "outputs": [
    {
     "name": "stdout",
     "output_type": "stream",
     "text": [
      "O erro absoluto é 1.384e+03 e o erro relativo é 9.990e-01 ou porcentagem 99.899%.\n"
     ]
    }
   ],
   "source": [
    "# e) p = 10 ^ pi, p* = 1.400\n",
    "\n",
    "print(erro_absoluto__relativo(10**math.pi, 1.400))"
   ]
  },
  {
   "cell_type": "markdown",
   "metadata": {},
   "source": [
    "$e)$ $$p = {8!}, \\space p^* = 39,900$$"
   ]
  },
  {
   "cell_type": "code",
   "execution_count": 37,
   "metadata": {},
   "outputs": [
    {
     "name": "stdout",
     "output_type": "stream",
     "text": [
      "O erro absoluto é 4.028e+04 e o erro relativo é 9.990e-01 ou porcentagem 99.901%.\n"
     ]
    }
   ],
   "source": [
    "# f) p = 8!, p* = 39.900\n",
    "\n",
    "\n",
    "print(erro_absoluto__relativo(math.factorial(8), 39.900))"
   ]
  },
  {
   "cell_type": "markdown",
   "metadata": {},
   "source": [
    "$f)$ $$p = {9!}, \\space p^* = \\sqrt 18 \\pi(9/{e})⁹$$"
   ]
  },
  {
   "cell_type": "code",
   "execution_count": 38,
   "metadata": {},
   "outputs": [
    {
     "name": "stdout",
     "output_type": "stream",
     "text": [
      "O erro absoluto é 9.890e+05 e o erro relativo é 2.725e+00 ou porcentagem 272.530%.\n"
     ]
    }
   ],
   "source": [
    "# g) p = 9!, p* = (18pi*(9/e)⁹)**1/2\n",
    "\n",
    "\n",
    "apr_p = ((18*math.pi) * ((9/math.e)**9))**1/2\n",
    "\n",
    "print(erro_absoluto__relativo(math.factorial(9), apr_p))"
   ]
  },
  {
   "cell_type": "markdown",
   "metadata": {},
   "source": [
    "<br>\n",
    "<br>"
   ]
  },
  {
   "cell_type": "markdown",
   "metadata": {},
   "source": [
    "**1. Efetue os seguintes calculos:** \n",
    "\n",
    "+ (i) manualmente;\n",
    "+ (ii) Utilizando aritmética de truncamento com três algarismos significativos;\n",
    "+ (iii) Utilizando aritmética de arredondamento com três algarismos significativos;\n",
    "\n",
    "**Calcule os erros relativos e absolutos das partes (ii) (iii):**"
   ]
  },
  {
   "cell_type": "markdown",
   "metadata": {},
   "source": [
    "$a)$ $$\\frac{4}{5} + \\frac{1}{3}$$"
   ]
  },
  {
   "cell_type": "code",
   "execution_count": 39,
   "metadata": {},
   "outputs": [
    {
     "name": "stdout",
     "output_type": "stream",
     "text": [
      "Utilizando aritimética de truncamento com três algarismos significativos temos: 1.13\n",
      "Utilizando aritimética de arredondamento com três algarismos significativos temos: 1.14 ou porcentagem 114%\n",
      "O erro absoluto é 6.667e-03 e o erro relativo é 5.882e-03 ou porcentagem 0.588%.\n"
     ]
    }
   ],
   "source": [
    "# Operação em questão:\n",
    "operation = 4/5 + 1/3\n",
    "\n",
    "# Truncamento:\n",
    "print(f'Utilizando aritimética de truncamento com três algarismos significativos temos: {operation:.2f}')\n",
    "\n",
    "# Arredondamento:\n",
    "arredondamento = operation + 0.005\n",
    "porcentagem = arredondamento * 100\n",
    "print(f'Utilizando aritimética de arredondamento com três algarismos significativos temos: {arredondamento:.2f} ou porcentagem {porcentagem:.0f}%')\n",
    "\n",
    "# Erro absoluto e relativo\n",
    "print(erro_absoluto__relativo(operation, 1.14))"
   ]
  },
  {
   "cell_type": "markdown",
   "metadata": {},
   "source": [
    "$b)$ $$\\frac{4}{5} * \\frac{1}{3}$$"
   ]
  },
  {
   "cell_type": "code",
   "execution_count": 40,
   "metadata": {},
   "outputs": [
    {
     "name": "stdout",
     "output_type": "stream",
     "text": [
      "Utilizando aritimética de truncamento com três algarismos significativos temos: 0.267\n",
      "Utilizando aritimética de arredondamento com três algarismos significativos temos: 0.267 ou porcentagem 26.7%\n",
      "O erro absoluto é 3.333e-04 e o erro relativo é 1.250e-03 ou porcentagem 0.125%.\n"
     ]
    }
   ],
   "source": [
    "# Operação em questão:\n",
    "operation = 4/5 * 1/3\n",
    "\n",
    "# Truncamento:\n",
    "print(f'Utilizando aritimética de truncamento com três algarismos significativos temos: {operation:.3f}')\n",
    "\n",
    "# Arredondamento:\n",
    "arredondamento = operation + 0.0005\n",
    "porcentagem = arredondamento * 100\n",
    "print(f'Utilizando aritimética de arredondamento com três algarismos significativos temos: {operation:.3f} ou porcentagem {porcentagem:.1f}%')\n",
    "\n",
    "# Erro absoluto e relativo\n",
    "print(erro_absoluto__relativo(operation, 0.267))"
   ]
  },
  {
   "cell_type": "markdown",
   "metadata": {},
   "source": [
    "$c)$ $$\\left (\\frac{1}{3} - \\frac{3}{11}\\right) + \\frac{3}{20}$$"
   ]
  },
  {
   "cell_type": "code",
   "execution_count": 41,
   "metadata": {},
   "outputs": [
    {
     "name": "stdout",
     "output_type": "stream",
     "text": [
      "Utilizando aritimética de truncamento com três algarismos significativos temos: 0.211\n",
      "Utilizando aritimética de arredondamento com três algarismos significativos temos: 0.211 ou porcentagem 21.111%\n",
      "O erro absoluto é 3.939e-04 e o erro relativo é 1.871e-03 ou porcentagem 0.187%.\n"
     ]
    }
   ],
   "source": [
    "# Operação em questão:\n",
    "operation = ((1/3 - 3/11) + 3/20)\n",
    "\n",
    "# Truncamento:\n",
    "print(f'Utilizando aritimética de truncamento com três algarismos significativos temos: {operation:.3f}')\n",
    "\n",
    "# Arredondamento:\n",
    "arredondamento = operation + 0.0005\n",
    "porcentagem = arredondamento * 100\n",
    "print(f'Utilizando aritimética de arredondamento com três algarismos significativos temos: {operation:.3f} ou porcentagem {porcentagem:.3f}%')\n",
    "\n",
    "# Erro absoluto e relativo\n",
    "print(erro_absoluto__relativo(operation, 0.211))"
   ]
  },
  {
   "cell_type": "markdown",
   "metadata": {},
   "source": [
    "$d)$ $$\\left (\\frac{1}{3} + \\frac{3}{11}\\right) - \\frac{3}{20}$$"
   ]
  },
  {
   "cell_type": "code",
   "execution_count": 42,
   "metadata": {},
   "outputs": [
    {
     "name": "stdout",
     "output_type": "stream",
     "text": [
      "Utilizando aritimética de truncamento com três algarismos significativos temos: 0.456\n",
      "Utilizando aritimética de arredondamento com três algarismos significativos temos: 0.456 ou porcentagem 45.66%\n",
      "O erro absoluto é 6.061e-05 e o erro relativo é 1.329e-04 ou porcentagem 0.013%.\n"
     ]
    }
   ],
   "source": [
    "# Operação em questão:\n",
    "operation = ((1/3 + 3/11) - 3/20)\n",
    "\n",
    "# Truncamento:\n",
    "print(f'Utilizando aritimética de truncamento com três algarismos significativos temos: {operation:.3f}')\n",
    "\n",
    "# Arredondamento:\n",
    "arredondamento = operation + 0.0005\n",
    "porcentagem = arredondamento * 100\n",
    "print(f'Utilizando aritimética de arredondamento com três algarismos significativos temos: {operation:.3f} ou porcentagem {porcentagem:.2f}%')\n",
    "\n",
    "# Erro absoluto e relativo\n",
    "print(erro_absoluto__relativo(operation, 0.456))"
   ]
  },
  {
   "cell_type": "markdown",
   "metadata": {},
   "source": [
    "$e)$ $$133 + 0,921$$"
   ]
  },
  {
   "cell_type": "code",
   "execution_count": 43,
   "metadata": {},
   "outputs": [
    {
     "name": "stdout",
     "output_type": "stream",
     "text": [
      "Utilizando aritimética de truncamento com três algarismos significativos temos: 134\n",
      "Utilizando aritimética de arredondamento com três algarismos significativos temos: 134 ou porcentagem 13392.6%\n",
      "O erro absoluto é 7.900e-02 e o erro relativo é 5.899e-04 ou porcentagem 0.059%.\n"
     ]
    }
   ],
   "source": [
    "# Operação em questão:\n",
    "operation = 133 + 0.921\n",
    "\n",
    "# Truncamento:\n",
    "print(f'Utilizando aritimética de truncamento com três algarismos significativos temos: {operation:.0f}')\n",
    "\n",
    "# Arredondamento:\n",
    "arredondamento = operation + 0.005\n",
    "porcentagem = arredondamento * 100\n",
    "print(f'Utilizando aritimética de arredondamento com três algarismos significativos temos: {operation:.0f} ou porcentagem {porcentagem:.1f}%')\n",
    "\n",
    "# Erro absoluto e relativo\n",
    "print(erro_absoluto__relativo(operation, 134))"
   ]
  },
  {
   "cell_type": "markdown",
   "metadata": {},
   "source": [
    "<br>\n",
    "<br>"
   ]
  },
  {
   "cell_type": "markdown",
   "metadata": {},
   "source": [
    "**3. O número $e$ pode ser aproximado pela expressão e $\\approx \\sum_{k=10}^{n} \\frac{1}{k!}$. Calcule o erro absoluto e relativo para as aproximações de $e$ fazendo $n = 5$ e $n = 10$.**"
   ]
  },
  {
   "cell_type": "code",
   "execution_count": 44,
   "metadata": {},
   "outputs": [],
   "source": [
    "\n",
    "def aprox_e(enesimo_termo):\n",
    "\n",
    "    \"\"\"\n",
    "    Retorna uma aproximação de e dado n(enésimo termo).\n",
    "\n",
    "    \"\"\"\n",
    "    from math import factorial\n",
    "\n",
    "    n = -1\n",
    "    somatorio = 0\n",
    "\n",
    "    while n < enesimo_termo:\n",
    "        n+=1\n",
    "        somatorio+= 1/factorial(n)\n",
    "\n",
    "    return somatorio"
   ]
  },
  {
   "cell_type": "markdown",
   "metadata": {},
   "source": [
    "<br>"
   ]
  },
  {
   "cell_type": "markdown",
   "metadata": {},
   "source": [
    "*Erro absoluto e relativo para aproximação de $e$ fazendo $n = 5$. Passando o valor de $n$ como parâmetro da função, temos os seguintes resultados:*"
   ]
  },
  {
   "cell_type": "code",
   "execution_count": 45,
   "metadata": {},
   "outputs": [
    {
     "name": "stdout",
     "output_type": "stream",
     "text": [
      "O erro absoluto é 1.615e-03 e o erro relativo é 5.942e-04 ou porcentagem 0.059%.\n"
     ]
    }
   ],
   "source": [
    "# Aproximação para n = 5:\n",
    "aproximacao = aprox_e(5)\n",
    "\n",
    "# Erro absoluto e relativo para n = 5:\n",
    "print(erro_absoluto__relativo(math.e, aproximacao))"
   ]
  },
  {
   "cell_type": "markdown",
   "metadata": {},
   "source": [
    "<br>"
   ]
  },
  {
   "cell_type": "markdown",
   "metadata": {},
   "source": [
    "*Erro absoluto e relativo para aproximação de $e$ fazendo $n = 10$. Passando o valor de $n$ como parâmetro da função, temos os seguintes resultados:*"
   ]
  },
  {
   "cell_type": "code",
   "execution_count": 46,
   "metadata": {},
   "outputs": [
    {
     "name": "stdout",
     "output_type": "stream",
     "text": [
      "O erro absoluto é 2.731e-08 e o erro relativo é 1.005e-08 ou porcentagem 0.000%.\n"
     ]
    }
   ],
   "source": [
    "# Aproximação para n = 10:\n",
    "aproximacao = aprox_e(10)\n",
    "\n",
    "# Erro absoluto e relativo para n = 10:\n",
    "print(erro_absoluto__relativo(math.e, aproximacao))"
   ]
  }
 ],
 "metadata": {
  "kernelspec": {
   "display_name": "Python 3 (ipykernel)",
   "language": "python",
   "name": "python3"
  },
  "language_info": {
   "codemirror_mode": {
    "name": "ipython",
    "version": 3
   },
   "file_extension": ".py",
   "mimetype": "text/x-python",
   "name": "python",
   "nbconvert_exporter": "python",
   "pygments_lexer": "ipython3",
   "version": "3.10.6"
  }
 },
 "nbformat": 4,
 "nbformat_minor": 2
}
