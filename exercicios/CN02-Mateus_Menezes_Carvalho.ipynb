{
 "cells": [
  {
   "attachments": {},
   "cell_type": "markdown",
   "metadata": {},
   "source": [
    "## Instituto Federal de Minas Gerais campus Ibirité\n",
    "\n",
    "<br>\n",
    "\n",
    "**Curso**: Engenharia de controle e automação.\n",
    "\n",
    "**Professor**: Ivan Reinaldo Meneguini.\n",
    "\n",
    "**Disciplina**: Cálculo Numérico.\n",
    "\n",
    "**Aula/Tema**: Aula 02-Método da bisseção.\n",
    "\n",
    "<br>\n",
    "\n",
    "*Mateus Menezes Carvalho, 10 de Março de 2023.*\n",
    "\n",
    "<br>"
   ]
  },
  {
   "attachments": {},
   "cell_type": "markdown",
   "metadata": {},
   "source": [
    "1. Dê um exemplo de uma função contínua que tenha uma raiz no intervalo $[a, b]$ mas $f(a) \\ast f(b) > 0$. Isto contraria o teorema do valor intermediário?\n",
    "\n",
    "<br>\n",
    "\n",
    "$$f(x) = x²$$\n",
    "\n",
    "<br>\n",
    "\n",
    "Sim. Existem alguns casos de funções contínuas, que em um determinado intervalo $[a, b]$, é possível determinar suas raizes quando $f(a) *(b) > 0$, é o caso da função $y = x²$."
   ]
  },
  {
   "attachments": {},
   "cell_type": "markdown",
   "metadata": {},
   "source": [
    "<br>\n",
    "2. Implemente o método da bisseção.\n",
    "<br>"
   ]
  },
  {
   "cell_type": "code",
   "execution_count": 81,
   "metadata": {},
   "outputs": [],
   "source": [
    "def bissecao(a, b, tol, funcao, intermax=100):\n",
    "\n",
    "\n",
    "    \"\"\"\n",
    "    \n",
    "    Retorna uma solução aproximada para p caso exista.\n",
    "\n",
    "    \"\"\"\n",
    "\n",
    "    xa = a\n",
    "    xb = b\n",
    "\n",
    "    i = 1\n",
    "    p = 0\n",
    "\n",
    "    valor_a_f = funcao(a) # Valor de a avaliado em f(x)\n",
    "    valor_p_f = funcao(p) # Valor de p avaliado em f(x)\n",
    "\n",
    "    while i <= intermax:\n",
    "        \n",
    "        \n",
    "        p = (a + b) / 2\n",
    "        valor_p_f = funcao(p)\n",
    "\n",
    "        if abs(valor_p_f) < tol or (b - a)/2 < tol:\n",
    "            return f'f(x) possui raíz no intervalo ({xa}, {xb}). r = {p:.2f}, é uma aproximação para a raiz.'\n",
    "        \n",
    "        elif valor_a_f * valor_p_f > 0:\n",
    "            a = p\n",
    "            valor_p_f = valor_a_f\n",
    "\n",
    "        else:\n",
    "            b = p\n",
    "\n",
    "        i=+1    \n",
    "\n",
    "    return 'O método da bisseção falhou!'    "
   ]
  },
  {
   "attachments": {},
   "cell_type": "markdown",
   "metadata": {},
   "source": [
    "<br>\n",
    "\n",
    "3. Justifique que a equação $4x-e^x = 0$ tem uma raiz no intervalo $(0, 1)$ e outra no intervalo $(2,3)$. Utilize o método da bisseção para encontrar uma aproximação para estas raízes. Use $tol = 10^⁻5$ e $itermax = 100$.\n",
    "\n",
    "<br>"
   ]
  },
  {
   "cell_type": "code",
   "execution_count": 69,
   "metadata": {},
   "outputs": [
    {
     "name": "stdout",
     "output_type": "stream",
     "text": [
      "f(x) possui raíz no intervalo (0, 1). r = 0.36, é uma aproximação para a raíz.\n",
      "f(x) possui raíz no intervalo (2, 3). r = 2.15, é uma aproximação para a raíz.\n"
     ]
    }
   ],
   "source": [
    "import math\n",
    "\n",
    "# Função:\n",
    "funcao = lambda x: (4*x) - (math.e**x)\n",
    "\n",
    "# Aplicando o método da bisseção para o intervalo (0,1):\n",
    "print(bissecao(0, 1, 10**-5, funcao))\n",
    "\n",
    "# Aplicando o método da bisseção para o intervalo (2,3):\n",
    "print(bissecao(2, 3, 10**-5, funcao))"
   ]
  },
  {
   "attachments": {},
   "cell_type": "markdown",
   "metadata": {},
   "source": [
    "\n",
    "Sendo $r$ o valor da raiz da equação $4x-e^x = 0$ no ponto $(x', x'')$: \n",
    "\n",
    "+ $f(x)$ possui raiz no intervalo $(0, 1)$. $r = 0.36$, é uma aproximação para a raiz.\n",
    "\n",
    "+ $f(x)$ possui raiz no intervalo $(2, 3)$. $r = 2.15$, é uma aproximação para a raiz.\n",
    "\n",
    "Portanto, quando $x = r$, $f(x) = 0$.\n"
   ]
  },
  {
   "attachments": {},
   "cell_type": "markdown",
   "metadata": {},
   "source": [
    "<br>\n",
    "\n",
    "4. Utilize o método da bisseção para encontrar uma raiz das equações $f(x) = 0$ definidas pelas funções a seguir \n",
    "nos intervalos indicados. Use $tol = 10^⁻5$ e $itermax = 100$.\n",
    "\n",
    "<br>"
   ]
  },
  {
   "attachments": {},
   "cell_type": "markdown",
   "metadata": {},
   "source": [
    "<br>\n",
    "\n",
    "a) $$f(x) = \\sqrt{x} - cos(x), \\space I = [0, 1]$$\n",
    "\n",
    "<br>"
   ]
  },
  {
   "cell_type": "code",
   "execution_count": 76,
   "metadata": {},
   "outputs": [
    {
     "name": "stdout",
     "output_type": "stream",
     "text": [
      "f(x) possui raíz no intervalo (0, 1). r = 1.000, é uma aproximação para a raiz.\n"
     ]
    }
   ],
   "source": [
    "# Função:\n",
    "funcao = lambda x: (x)**1/2 - (math.cos(x))\n",
    "\n",
    "# Aplicando o método da bisseção para o intervalo (0,1):\n",
    "print(bissecao(0, 1, 10**-5, funcao))"
   ]
  },
  {
   "attachments": {},
   "cell_type": "markdown",
   "metadata": {},
   "source": [
    "$f(x)$ possui raíz no intervalo $(0, 1)$. $r = 1.00$, é uma aproximação para a raiz."
   ]
  },
  {
   "attachments": {},
   "cell_type": "markdown",
   "metadata": {},
   "source": [
    "<br>\n",
    "\n",
    "b) $$f(x) = 3(x + 1)(x - 0.5)(x - 1), \\space I = [0, 1]$$\n",
    "\n",
    "<br>"
   ]
  },
  {
   "cell_type": "code",
   "execution_count": 82,
   "metadata": {},
   "outputs": [
    {
     "name": "stdout",
     "output_type": "stream",
     "text": [
      "f(x) possui raíz no intervalo (-3, 0). r = -1.00, é uma aproximação para a raiz.\n"
     ]
    }
   ],
   "source": [
    "# Função:\n",
    "funcao = lambda x: 3*(x + 1)*(x - 0.5)*(x - 1)\n",
    "\n",
    "# Aplicando o método da bisseção para o intervalo (0,1):\n",
    "print(bissecao(-3, 0, 10**-5, funcao))"
   ]
  },
  {
   "attachments": {},
   "cell_type": "markdown",
   "metadata": {},
   "source": [
    "f(x) possui raíz no intervalo (-3, 0). r = -1.00, é uma aproximação para a raiz."
   ]
  },
  {
   "attachments": {},
   "cell_type": "markdown",
   "metadata": {},
   "source": [
    "<br>\n",
    "\n",
    "b) $$f(x) = 3(x + 1)(x - 0.5)(x - 1), \\space I = [0, 0.8]$$\n",
    "\n",
    "<br>"
   ]
  },
  {
   "cell_type": "code",
   "execution_count": 83,
   "metadata": {},
   "outputs": [
    {
     "name": "stdout",
     "output_type": "stream",
     "text": [
      "f(x) possui raíz no intervalo (0, 0.8). r = 0.50, é uma aproximação para a raiz.\n"
     ]
    }
   ],
   "source": [
    "# Função:\n",
    "funcao = lambda x: 3*(x + 1)*(x - 0.5)*(x - 1)\n",
    "\n",
    "# Aplicando o método da bisseção para o intervalo (0,1):\n",
    "print(bissecao(0, 0.8, 10**-5, funcao))"
   ]
  },
  {
   "attachments": {},
   "cell_type": "markdown",
   "metadata": {},
   "source": [
    "f(x) possui raíz no intervalo (0, 0.8). r = 0.50, é uma aproximação para a raiz."
   ]
  },
  {
   "attachments": {},
   "cell_type": "markdown",
   "metadata": {},
   "source": [
    "<br>\n",
    "\n",
    "c) $$f(x) = x - e^{-x}, \\space I = [0, 1]$$\n",
    "\n",
    "<br>"
   ]
  },
  {
   "cell_type": "code",
   "execution_count": 85,
   "metadata": {},
   "outputs": [
    {
     "name": "stdout",
     "output_type": "stream",
     "text": [
      "f(x) possui raíz no intervalo (0, 1). r = 0.57, é uma aproximação para a raiz.\n"
     ]
    }
   ],
   "source": [
    "# Função:\n",
    "funcao = lambda x: x - (math.e**-x)\n",
    "\n",
    "# Aplicando o método da bisseção para o intervalo (0,1):\n",
    "print(bissecao(0, 1, 10**-5, funcao))"
   ]
  },
  {
   "attachments": {},
   "cell_type": "markdown",
   "metadata": {},
   "source": [
    "f(x) possui raíz no intervalo (0, 1). r = 0.57, é uma aproximação para a raiz."
   ]
  },
  {
   "attachments": {},
   "cell_type": "markdown",
   "metadata": {},
   "source": [
    "<br>\n",
    "\n",
    "e) $$f(x) = e^{x} - x² + 3x - 2, \\space I = [0, 1]$$\n",
    "\n",
    "<br>"
   ]
  },
  {
   "cell_type": "code",
   "execution_count": 86,
   "metadata": {},
   "outputs": [
    {
     "name": "stdout",
     "output_type": "stream",
     "text": [
      "f(x) possui raíz no intervalo (0, 1). r = 0.26, é uma aproximação para a raiz.\n"
     ]
    }
   ],
   "source": [
    "# Função:\n",
    "funcao = lambda x: (math.e**x) - (x**2) + (3*x) - 2\n",
    "\n",
    "# Aplicando o método da bisseção para o intervalo (0,1):\n",
    "print(bissecao(0, 1, 10**-5, funcao))"
   ]
  },
  {
   "attachments": {},
   "cell_type": "markdown",
   "metadata": {},
   "source": [
    "f(x) possui raíz no intervalo (0, 1). r = 0.26, é uma aproximação para a raiz."
   ]
  },
  {
   "attachments": {},
   "cell_type": "markdown",
   "metadata": {},
   "source": [
    "<br>\n",
    "\n",
    "d) $$f(x) = x + 3 - sen(\\pi x), \\space I = [-1, 0]$$\n",
    "\n",
    "<br>"
   ]
  },
  {
   "cell_type": "code",
   "execution_count": 89,
   "metadata": {},
   "outputs": [
    {
     "name": "stdout",
     "output_type": "stream",
     "text": [
      "f(x) possui raíz no intervalo (-1, 0). r = -0.00, é uma aproximação para a raiz.\n"
     ]
    }
   ],
   "source": [
    "# Função:\n",
    "funcao = lambda x: (x + 3) - math.sin(math.pi*x)\n",
    "\n",
    "# Aplicando o método da bisseção para o intervalo (-1, 0):\n",
    "print(bissecao(-1, 0, 10**-5, funcao))"
   ]
  },
  {
   "attachments": {},
   "cell_type": "markdown",
   "metadata": {},
   "source": [
    "f(x) possui raíz no intervalo (-1, 0). r = -0.00, é uma aproximação para a raiz."
   ]
  },
  {
   "attachments": {},
   "cell_type": "markdown",
   "metadata": {},
   "source": [
    "<br>\n",
    "\n",
    "e) $$f(x) = x + 3 - sen(\\pi x), \\space I = [0, 0.5]$$\n",
    "\n",
    "<br>"
   ]
  },
  {
   "cell_type": "code",
   "execution_count": 90,
   "metadata": {},
   "outputs": [
    {
     "name": "stdout",
     "output_type": "stream",
     "text": [
      "f(x) possui raíz no intervalo (0, 0.5). r = 0.50, é uma aproximação para a raiz.\n"
     ]
    }
   ],
   "source": [
    "# Função:\n",
    "funcao = lambda x: (x + 3) - math.sin(math.pi*x)\n",
    "\n",
    "# Aplicando o método da bisseção para o intervalo (-1, 0):\n",
    "print(bissecao(0, 0.5, 10**-5, funcao))"
   ]
  },
  {
   "attachments": {},
   "cell_type": "markdown",
   "metadata": {},
   "source": [
    "f(x) possui raíz no intervalo (0, 0.5). r = 0.50, é uma aproximação para a raiz."
   ]
  },
  {
   "attachments": {},
   "cell_type": "markdown",
   "metadata": {},
   "source": [
    "5. Determine uma aproximação para $\\sqrt[3]{25}$ correta até $10^{⁻4}$."
   ]
  }
 ],
 "metadata": {
  "kernelspec": {
   "display_name": "Python 3.9.7 ('base')",
   "language": "python",
   "name": "python3"
  },
  "language_info": {
   "codemirror_mode": {
    "name": "ipython",
    "version": 3
   },
   "file_extension": ".py",
   "mimetype": "text/x-python",
   "name": "python",
   "nbconvert_exporter": "python",
   "pygments_lexer": "ipython3",
   "version": "3.10.6"
  },
  "orig_nbformat": 4,
  "vscode": {
   "interpreter": {
    "hash": "ad2bdc8ecc057115af97d19610ffacc2b4e99fae6737bb82f5d7fb13d2f2c186"
   }
  }
 },
 "nbformat": 4,
 "nbformat_minor": 2
}
